{
 "cells": [
  {
   "cell_type": "markdown",
   "metadata": {},
   "source": [
    "## Imports"
   ]
  },
  {
   "cell_type": "code",
   "execution_count": 1,
   "metadata": {},
   "outputs": [],
   "source": [
    "import numpy as np\n",
    "import matplotlib.pyplot as plt\n",
    "from tabulate import tabulate\n",
    "from math import sqrt, pi"
   ]
  },
  {
   "cell_type": "markdown",
   "metadata": {},
   "source": [
    "## Question 3"
   ]
  },
  {
   "cell_type": "markdown",
   "metadata": {},
   "source": [
    "#### Function Definitions"
   ]
  },
  {
   "cell_type": "code",
   "execution_count": 2,
   "metadata": {},
   "outputs": [],
   "source": [
    "def MultivariateNormal(X, mu, cov):\n",
    "    \n",
    "# Calculates pdf value for a given value, multivaraite normal distribution parameters\n",
    "# Inputs:\n",
    "#     X ----> Datapoints \n",
    "#     mu ---> Mean of the multivaraite normal distribution \n",
    "#     cov --> Covaraince matrix of the multivaraite normal distribution\n",
    "# Returns:\n",
    "#     pdf \n",
    "\n",
    "    try:\n",
    "        k = X.shape[1]\n",
    "    except:\n",
    "        X = X.reshape(1,-1)\n",
    "        k = X.shape[1]\n",
    "    sf = sqrt(np.linalg.det(cov)*(2*pi)**k)\n",
    "    exp_val = np.array(np.sum(np.multiply(np.matmul((X - mu), np.linalg.inv(cov)), (X - mu)), axis = 1), dtype=np.longdouble)\n",
    "   \n",
    "    pdf = np.exp(-exp_val/2)/sf\n",
    "    return pdf\n",
    "    "
   ]
  },
  {
   "cell_type": "code",
   "execution_count": 3,
   "metadata": {},
   "outputs": [],
   "source": [
    "def BayesClassifier(X, classes, mean_MLE, cov_MLE, prior, Loss_matrix='default'):\n",
    "\n",
    "# Classifies the given datapoints using the BayesClassifier\n",
    "# Inputs:\n",
    "#     X ---------------> Datapoints \n",
    "#     classes ---------> Possible classes to which X can belong \n",
    "#     mean_MLE --------> MLE estimates of the mean of each class\n",
    "#     prior -----------> prior probability of all the classes\n",
    "#     cov_MLE ---------> MLE estimates of the covaraince matrix of each class\n",
    "#     Loss_matrix -----> Loss matrix (default value is used if this is not passed in the function call)\n",
    "# Returns:\n",
    "#     Y_pred ----------> Predicted classes\n",
    "\n",
    "    n_classes = len(classes)\n",
    "    N = X.shape[0]\n",
    "    d = X.shape[1]\n",
    "       \n",
    "    if Loss_matrix =='default':\n",
    "        Loss_matrix = np.ones((n_classes,n_classes))\n",
    "        np.fill_diagonal(Loss_matrix, 0)\n",
    "        \n",
    "    posterior = np.zeros((N, n_classes))    \n",
    "    for c in classes:\n",
    "        q = MultivariateNormal(X, mean_MLE[c], cov_MLE[c])*prior[c]\n",
    "        \n",
    "        posterior[:,c] = q\n",
    "\n",
    "    g = np.zeros((N, n_classes))\n",
    "    for i in classes:\n",
    "        g[:,i] = np.dot(posterior, Loss_matrix[i,:])\n",
    "    \n",
    "    Y_pred = np.argmin(g, axis=1)\n",
    "    \n",
    "    return Y_pred \n",
    "    "
   ]
  },
  {
   "cell_type": "code",
   "execution_count": 4,
   "metadata": {},
   "outputs": [],
   "source": [
    "def accuracy(Y_true, Y_pred):\n",
    "    \n",
    "# Returns the accuracy of predicted classes\n",
    "# Inputs:\n",
    "#     Y_true -----> True class labels\n",
    "#     Y_pred -----> Predicted class labels\n",
    "# Returns:\n",
    "#     tp/N -------> Accuracy of predicted class labels \n",
    "\n",
    "    tp = len(np.argwhere(Y_true==Y_pred))\n",
    "    N  = Y_true.shape[0]\n",
    "    return tp/N"
   ]
  },
  {
   "cell_type": "markdown",
   "metadata": {},
   "source": [
    "#### Part (a)"
   ]
  },
  {
   "cell_type": "markdown",
   "metadata": {},
   "source": [
    "#### Generating Training points"
   ]
  },
  {
   "cell_type": "code",
   "execution_count": 5,
   "metadata": {},
   "outputs": [],
   "source": [
    "mu1  = np.zeros(3)\n",
    "mu2 = np.array([1, 5, -3])\n",
    "mu3 = np.zeros(3)\n",
    "\n",
    "mu = [mu1, mu2, mu3]\n",
    "\n",
    "cov1 = np.diag([3, 5, 2])\n",
    "cov2 = np.array([[1, 0 , 0], [0, 4, 1], [0, 1, 6]])\n",
    "cov3 = 10*np.identity(3)\n",
    "\n",
    "cov = [cov1, cov2, cov3]"
   ]
  },
  {
   "cell_type": "code",
   "execution_count": 6,
   "metadata": {},
   "outputs": [],
   "source": [
    "np.random.seed(0)\n",
    "n_classes = len(mu)\n",
    "d = len(mu1)\n",
    "num_train = 20\n",
    "\n",
    "X_train = np.zeros((n_classes*num_train, d))\n",
    "for i in range(n_classes):\n",
    "    X_train[(i)*num_train:(i+1)*num_train,:] = np.random.multivariate_normal(mu[i], cov[i], num_train)\n",
    "\n",
    "Y_train = np.array([0]*num_train + [1]*num_train + [2]*num_train)\n",
    "order = list(range(n_classes*num_train))\n",
    "np.random.shuffle(order)\n",
    "\n",
    "X_train = X_train[order,:]\n",
    "Y_train = Y_train[order]"
   ]
  },
  {
   "cell_type": "code",
   "execution_count": 7,
   "metadata": {},
   "outputs": [
    {
     "name": "stdout",
     "output_type": "stream",
     "text": [
      "╒═════════╤═══════════════════════════════════════╤════════════╤═════════════════════════════════════════╤═════════════════╕\n",
      "│   Class │ Estimated                             │ Actual     │ Estimated                               │ Actual          │\n",
      "│         │ mean                                  │ Mean       │ Covariance                              │ Covarinace      │\n",
      "╞═════════╪═══════════════════════════════════════╪════════════╪═════════════════════════════════════════╪═════════════════╡\n",
      "│       1 │ [ 0.3392595   0.61656112 -0.34167993] │ [0. 0. 0.] │ [[3.24175107 0.15192638 0.38377377]     │ [[3 0 0]        │\n",
      "│         │                                       │            │  [0.15192638 6.84813478 0.18501716]     │  [0 5 0]        │\n",
      "│         │                                       │            │  [0.38377377 0.18501716 1.98197715]]    │  [0 0 2]]       │\n",
      "├─────────┼───────────────────────────────────────┼────────────┼─────────────────────────────────────────┼─────────────────┤\n",
      "│       2 │ [ 1.03912963  5.82596232 -3.00765116] │ [ 1  5 -3] │ [[1.1529935  0.44403436 1.14503538]     │ [[1 0 0]        │\n",
      "│         │                                       │            │  [0.44403436 4.31991909 1.64468026]     │  [0 4 1]        │\n",
      "│         │                                       │            │  [1.14503538 1.64468026 6.74591011]]    │  [0 1 6]]       │\n",
      "├─────────┼───────────────────────────────────────┼────────────┼─────────────────────────────────────────┼─────────────────┤\n",
      "│       3 │ [ 1.16745981 -0.13912728 -0.88972324] │ [0. 0. 0.] │ [[ 7.78280415 -1.53913241 -1.65767207]  │ [[10.  0.  0.]  │\n",
      "│         │                                       │            │  [-1.53913241  8.94858583  0.7392485 ]  │  [ 0. 10.  0.]  │\n",
      "│         │                                       │            │  [-1.65767207  0.7392485   8.15284836]] │  [ 0.  0. 10.]] │\n",
      "╘═════════╧═══════════════════════════════════════╧════════════╧═════════════════════════════════════════╧═════════════════╛\n"
     ]
    }
   ],
   "source": [
    "classes = np.unique(Y_train)\n",
    "\n",
    "mean_MLE = []\n",
    "cov_MLE  = []\n",
    "N = len(Y_train)\n",
    "\n",
    "for c in classes:\n",
    "    x_c = X_train[np.argwhere(Y_train==c).ravel(),:]\n",
    "    mean_MLE.append(np.mean(x_c, axis = 0))\n",
    "    cov_MLE.append(np.cov(x_c.T)*N/(N-1))\n",
    "    \n",
    "\n",
    "table = []\n",
    "headers = [\"Class\", \"Estimated\\nmean\", \"Actual\\nMean\", \"Estimated\\nCovariance\", \"Actual\\nCovarinace\"]\n",
    "\n",
    " \n",
    "    \n",
    "for i in range(n_classes):\n",
    "    table.append([i+1, mean_MLE[i], mu[i], cov_MLE[i], cov[i]])\n",
    "\n",
    "print(tabulate(table, headers, tablefmt = 'fancy_grid'))\n"
   ]
  },
  {
   "cell_type": "markdown",
   "metadata": {},
   "source": [
    "#### Part (b)"
   ]
  },
  {
   "cell_type": "code",
   "execution_count": 8,
   "metadata": {},
   "outputs": [],
   "source": [
    "n_pts = 1500\n",
    "alpha = np.linspace(0, 1, n_pts)\n",
    "# alpha = alpha[1:n_pts-1]\n",
    "\n",
    "prior = np.array([1/n_classes]*3)\n",
    "cov_common = np.sum(np.array([p*cov for p,cov in zip(prior,cov_MLE)]), axis = 0)\n",
    "cov_shrunk = []\n",
    "\n",
    "cov_alpha = []\n",
    "for a in alpha:\n",
    "    cov_alpha.append(list(map(lambda c: ((1-a)*num_train*c + a*num_train*n_classes*cov_common)/((1-a)*num_train + a*num_train*n_classes), cov_MLE)))"
   ]
  },
  {
   "cell_type": "code",
   "execution_count": 9,
   "metadata": {
    "scrolled": false
   },
   "outputs": [
    {
     "data": {
      "image/png": "[encoded data removed]",
      "text/plain": [
       "<Figure size 864x576 with 1 Axes>"
      ]
     },
     "metadata": {
      "needs_background": "light"
     },
     "output_type": "display_data"
    },
    {
     "name": "stdout",
     "output_type": "stream",
     "text": [
      "Training error is lowest for alpha  = 0.3676\n"
     ]
    }
   ],
   "source": [
    "Y_train_pred_alpha  = []\n",
    "train_error_alpha = []\n",
    "for cov_ in cov_alpha:\n",
    "    Y_train_pred = BayesClassifier(X_train, np.arange(n_classes), mean_MLE, cov_, prior, Loss_matrix='default')\n",
    "    Y_train_pred_alpha.append(Y_train_pred)\n",
    "    train_error_alpha.append(1 - accuracy(Y_train, Y_train_pred))\n",
    "\n",
    "plt.figure(figsize=(12,8))   \n",
    "plt.plot(alpha, train_error_alpha)\n",
    "plt.title('Training Classifaication Error vs Alpha')\n",
    "plt.xlabel('Alpha')\n",
    "plt.ylabel('Training Classifaication Error')\n",
    "plt.show()\n",
    "\n",
    "print('Training error is lowest for alpha  = {}'.format(round(alpha[np.argmin(train_error_alpha)], 4)))\n"
   ]
  },
  {
   "cell_type": "markdown",
   "metadata": {},
   "source": [
    "#### Part (c)"
   ]
  },
  {
   "cell_type": "code",
   "execution_count": 10,
   "metadata": {},
   "outputs": [],
   "source": [
    "num_test = 50\n",
    "\n",
    "X_test = np.zeros((n_classes*num_test, d))\n",
    "for i in range(n_classes):\n",
    "    X_test[(i)*num_test:(i+1)*num_test,:] = np.random.multivariate_normal(mu[i], cov[i], num_test)\n",
    "\n",
    "Y_test = np.array([0]*num_test + [1]*num_test + [2]*num_test)\n",
    "order = list(range(n_classes*num_test))\n",
    "np.random.shuffle(order)\n",
    "\n",
    "X_test = X_test[order,:]\n",
    "Y_test = Y_test[order]"
   ]
  },
  {
   "cell_type": "code",
   "execution_count": 11,
   "metadata": {},
   "outputs": [
    {
     "data": {
      "image/png": "[encoded data removed]",
      "text/plain": [
       "<Figure size 864x576 with 1 Axes>"
      ]
     },
     "metadata": {
      "needs_background": "light"
     },
     "output_type": "display_data"
    },
    {
     "name": "stdout",
     "output_type": "stream",
     "text": [
      "Test error lowest for alpha  = 0.1034\n"
     ]
    }
   ],
   "source": [
    "Y_test_pred_alpha  = []\n",
    "test_error_alpha = []\n",
    "for cov_ in cov_alpha:\n",
    "    Y_test_pred = BayesClassifier(X_test, np.arange(n_classes), mean_MLE, cov_, prior, Loss_matrix='default')\n",
    "    Y_test_pred_alpha.append(Y_test_pred)\n",
    "    test_error_alpha.append(1 - accuracy(Y_test, Y_test_pred))\n",
    "\n",
    "plt.figure(figsize=(12,8))   \n",
    "plt.plot(alpha, test_error_alpha)\n",
    "plt.title('Test Classification Error vs Alpha')\n",
    "plt.xlabel('Alpha')\n",
    "plt.ylabel('Test Classification Error')\n",
    "plt.show()\n",
    "\n",
    "print('Test error lowest for alpha  = {}'.format(round(alpha[np.argmin(test_error_alpha)], 4)))\n"
   ]
  }
 ],
 "metadata": {
  "kernelspec": {
   "display_name": "Python 3",
   "language": "python",
   "name": "python3"
  },
  "language_info": {
   "codemirror_mode": {
    "name": "ipython",
    "version": 3
   },
   "file_extension": ".py",
   "mimetype": "text/x-python",
   "name": "python",
   "nbconvert_exporter": "python",
   "pygments_lexer": "ipython3",
   "version": "3.7.4"
  }
 },
 "nbformat": 4,
 "nbformat_minor": 2
}
