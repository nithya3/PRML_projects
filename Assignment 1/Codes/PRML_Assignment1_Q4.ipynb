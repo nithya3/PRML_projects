{
 "cells": [
  {
   "cell_type": "code",
   "execution_count": 1,
   "metadata": {},
   "outputs": [],
   "source": [
    "# Importing the required libraries for the problem\n",
    "import numpy as np\n",
    "import pandas as pd\n",
    "import matplotlib.pyplot as plt\n",
    "from tabulate import tabulate\n",
    "from scipy import special "
   ]
  },
  {
   "cell_type": "markdown",
   "metadata": {},
   "source": [
    "# Question 4"
   ]
  },
  {
   "cell_type": "markdown",
   "metadata": {},
   "source": [
    "## Case 1: Highly Correlated Matrix"
   ]
  },
  {
   "cell_type": "markdown",
   "metadata": {},
   "source": [
    "#### Creation of Correlated Matrix "
   ]
  },
  {
   "cell_type": "code",
   "execution_count": 2,
   "metadata": {},
   "outputs": [],
   "source": [
    "np.random.seed(10)\n",
    "X = np.random.random_sample(100)\n",
    "A = []\n",
    "A.append(X)\n",
    "\n",
    "for i in range(99):\n",
    "    p = 0.999 #(Correlation)\n",
    "    Y = []\n",
    "    for x in X:\n",
    "# Creating y variables with mean = px and variance = 1-p^2 using the F inverse formula using the erf inverse fn.\n",
    "        Y.append(p*x + np.sqrt((1-p**2)*2)*special.erfinv(2*np.random.uniform(0,1,1)-1))\n",
    "    Y = np.ravel(Y)\n",
    "    Y = (Y - min(Y))/max(Y - min(Y)) # Normalizing the Y values so that they are between 0 and 1\n",
    "    A.append(np.array(Y)) # Appending the individual features to the matrix\n",
    "    \n",
    "A = np.matrix(A)"
   ]
  },
  {
   "cell_type": "code",
   "execution_count": 3,
   "metadata": {},
   "outputs": [
    {
     "data": {
      "text/plain": [
       "array([[1.        , 0.98937188, 0.98681353, ..., 0.98237677, 0.98664962,\n",
       "        0.989341  ],\n",
       "       [0.98937188, 1.        , 0.9787438 , ..., 0.97326984, 0.97596191,\n",
       "        0.97657417],\n",
       "       [0.98681353, 0.9787438 , 1.        , ..., 0.96700745, 0.97424095,\n",
       "        0.97234036],\n",
       "       ...,\n",
       "       [0.98237677, 0.97326984, 0.96700745, ..., 1.        , 0.97256912,\n",
       "        0.97752949],\n",
       "       [0.98664962, 0.97596191, 0.97424095, ..., 0.97256912, 1.        ,\n",
       "        0.97840739],\n",
       "       [0.989341  , 0.97657417, 0.97234036, ..., 0.97752949, 0.97840739,\n",
       "        1.        ]])"
      ]
     },
     "execution_count": 3,
     "metadata": {},
     "output_type": "execute_result"
    }
   ],
   "source": [
    "# We can see that the columns of A are highly correlated\n",
    "np.corrcoef(A)"
   ]
  },
  {
   "cell_type": "markdown",
   "metadata": {},
   "source": [
    "#### Singular Value Decompostion"
   ]
  },
  {
   "cell_type": "code",
   "execution_count": 4,
   "metadata": {},
   "outputs": [],
   "source": [
    "def SVD(A):\n",
    "    # Calculating eigenvalues and eigenvectors of AT.A\n",
    "    w2,v2 = np.linalg.eig(np.matmul(A.T,A))\n",
    "        \n",
    "    # Arranging eigenvalues in decreasing order as required by SVD\n",
    "\n",
    "    idx = w2.argsort()[::-1]   \n",
    "    w2 = w2[idx]\n",
    "    v2 = v2[:,idx]\n",
    "    \n",
    "    v1 = np.matrix(np.zeros([100,100]))\n",
    "    for i in range(100):\n",
    "        v1[:,i] = A*v2[:,i]/(w2[i])**0.5 # Eigenvectors of v1, yi = A*xi/si\n",
    "    \n",
    "\n",
    "    # The SVD Matrices U,V and S are defined as follows\n",
    "    U = v1\n",
    "    V = v2\n",
    "    s = w2**0.5\n",
    "\n",
    "    return (U,s,V)"
   ]
  },
  {
   "cell_type": "code",
   "execution_count": 5,
   "metadata": {},
   "outputs": [],
   "source": [
    "U,s,V = SVD(A) # Performing SVD using the above defined function"
   ]
  },
  {
   "cell_type": "code",
   "execution_count": 6,
   "metadata": {},
   "outputs": [
    {
     "data": {
      "text/plain": [
       "matrix([[0.77132064, 0.02075195, 0.63364823, ..., 0.44077382, 0.31827281,\n",
       "         0.51979699],\n",
       "        [0.79445739, 0.11315281, 0.59053318, ..., 0.50640914, 0.33629463,\n",
       "         0.48891607],\n",
       "        [0.80250179, 0.05124461, 0.61385397, ..., 0.45058898, 0.24161015,\n",
       "         0.4889517 ],\n",
       "        ...,\n",
       "        [0.7610786 , 0.06936035, 0.61377297, ..., 0.40735977, 0.29109895,\n",
       "         0.53291851],\n",
       "        [0.66517099, 0.06969255, 0.54041839, ..., 0.37078627, 0.24614663,\n",
       "         0.46155547],\n",
       "        [0.74906714, 0.05535669, 0.62077031, ..., 0.32789256, 0.30850789,\n",
       "         0.55985628]])"
      ]
     },
     "execution_count": 6,
     "metadata": {},
     "output_type": "execute_result"
    }
   ],
   "source": [
    "A "
   ]
  },
  {
   "cell_type": "code",
   "execution_count": 7,
   "metadata": {},
   "outputs": [
    {
     "data": {
      "text/plain": [
       "matrix([[0.77132064, 0.02075195, 0.63364823, ..., 0.44077382, 0.31827281,\n",
       "         0.51979699],\n",
       "        [0.79445739, 0.11315281, 0.59053318, ..., 0.50640914, 0.33629463,\n",
       "         0.48891607],\n",
       "        [0.80250179, 0.05124461, 0.61385397, ..., 0.45058898, 0.24161015,\n",
       "         0.4889517 ],\n",
       "        ...,\n",
       "        [0.7610786 , 0.06936035, 0.61377297, ..., 0.40735977, 0.29109895,\n",
       "         0.53291851],\n",
       "        [0.66517099, 0.06969255, 0.54041839, ..., 0.37078627, 0.24614663,\n",
       "         0.46155547],\n",
       "        [0.74906714, 0.05535669, 0.62077031, ..., 0.32789256, 0.30850789,\n",
       "         0.55985628]])"
      ]
     },
     "execution_count": 7,
     "metadata": {},
     "output_type": "execute_result"
    }
   ],
   "source": [
    "U*np.diag(s)*V.T"
   ]
  },
  {
   "cell_type": "markdown",
   "metadata": {},
   "source": [
    "We see that using SVD, we are able to successfully decompose the matrix A"
   ]
  },
  {
   "cell_type": "markdown",
   "metadata": {},
   "source": [
    "#### Compute Frobenius norm of matrix A"
   ]
  },
  {
   "cell_type": "markdown",
   "metadata": {},
   "source": [
    "Frobenius norm = Sum of squares of elements of matrix = Sum of squares of singular values = Sum of eigenvalues"
   ]
  },
  {
   "cell_type": "code",
   "execution_count": 8,
   "metadata": {},
   "outputs": [],
   "source": [
    "frobenius_A = 0\n",
    "for i in range(100):\n",
    "    for j in range(100):\n",
    "        frobenius_A = frobenius_A + (A[i,j])**2 # Summing squares of all elements of the matrix"
   ]
  },
  {
   "cell_type": "code",
   "execution_count": 9,
   "metadata": {},
   "outputs": [
    {
     "name": "stdout",
     "output_type": "stream",
     "text": [
      "The frobenius norm of A is 3062.5385165157613\n"
     ]
    }
   ],
   "source": [
    "print('The frobenius norm of A is {}'.format(frobenius_A))"
   ]
  },
  {
   "cell_type": "code",
   "execution_count": 10,
   "metadata": {},
   "outputs": [
    {
     "name": "stdout",
     "output_type": "stream",
     "text": [
      "The frobenius norm of A is 3062.5385165157563\n",
      "We can see that Frobenius norm captured in the same as sum of eigenvalues/ sum of squares of singular values\n"
     ]
    }
   ],
   "source": [
    "print('The frobenius norm of A is {}'.format(sum(s**2))) # Summing all the squares of singular values of the matrix\n",
    "print('We can see that Frobenius norm captured in the same as sum of eigenvalues/ sum of squares of singular values')"
   ]
  },
  {
   "cell_type": "markdown",
   "metadata": {},
   "source": [
    "#### What fraction of the Frobenius norm of A is captured by the top 10 singular vectors?"
   ]
  },
  {
   "cell_type": "code",
   "execution_count": 11,
   "metadata": {},
   "outputs": [
    {
     "name": "stdout",
     "output_type": "stream",
     "text": [
      "Fraction captured by top ten singular vectors = 0.9958571220497642\n"
     ]
    }
   ],
   "source": [
    "var_10  = 0 # Variance captured by top ten singular vectors \n",
    "var_all = 0 # Variance captured by all the singular vectors\n",
    "\n",
    "for i in s[:10]:\n",
    "    var_10 = var_10 + i**2 # Summing the squares of top ten singular values\n",
    "for i in s:\n",
    "    var_all = var_all + i**2 # Summing the squares of all singular values\n",
    "    \n",
    "print('Fraction captured by top ten singular vectors = {}'.format(var_10/var_all))"
   ]
  },
  {
   "cell_type": "markdown",
   "metadata": {},
   "source": [
    "#### What fraction of the Frobenius norm of A is captured by the random 10 singular vectors?"
   ]
  },
  {
   "cell_type": "code",
   "execution_count": 12,
   "metadata": {},
   "outputs": [
    {
     "name": "stdout",
     "output_type": "stream",
     "text": [
      "Fraction captured by random ten singular vectors = 0.0007224370054098604\n"
     ]
    }
   ],
   "source": [
    "np.random.seed(10)\n",
    "s1 = s.copy()\n",
    "np.random.shuffle(s1)\n",
    "\n",
    "var_10  = 0 # Variance captured by random ten singular vectors \n",
    "var_all = 0 # Variance captured by all the singular vectors\n",
    "\n",
    "for i in s1[:10]:\n",
    "    var_10 = var_10 + i**2 # Summing the squares of random ten singular values\n",
    "for i in s1:\n",
    "    var_all = var_all + i**2 # Summing the squares of all singular values\n",
    "    \n",
    "print('Fraction captured by random ten singular vectors = {}'.format(var_10/var_all))"
   ]
  },
  {
   "cell_type": "markdown",
   "metadata": {},
   "source": [
    "#### Plot a graph showing the number of singular vectors required to capture 50%, 75% & 95% of the data respectively? (Using the Frobenius norm)"
   ]
  },
  {
   "cell_type": "code",
   "execution_count": 13,
   "metadata": {},
   "outputs": [],
   "source": [
    "var_n   = 0 # Variance captured till n% variance is reached\n",
    "var_all = 0 # Variance captured by all singular vectors\n",
    "\n",
    "n_50 = 0 # Number of singular vectors required to capture 50% variance\n",
    "n_75 = 0 # Number of singular vectors required to capture 75% variance\n",
    "n_95 = 0 # Number of singular vectors required to capture 95% variance\n",
    "\n",
    "for i in s:\n",
    "    var_all = var_all + i**2\n",
    "    \n",
    "for i in range(len(s)):\n",
    "    var_n = var_n + (s[i])**2\n",
    "    if var_n >= var_all*0.5:\n",
    "        n_50 = i+1 # If variance exeeds 50%, we set n_50 to number of singular vectors required to capture it.\n",
    "        break\n",
    "\n",
    "\n",
    "var_n = 0\n",
    "for i in range(len(s)):\n",
    "    var_n = var_n + (s[i])**2\n",
    "    if var_n >= var_all*0.75:\n",
    "        n_75 = i+1 # If variance exeeds 75%, we set n_75 to number of singular vectors required to capture it.\n",
    "        break\n",
    "    \n",
    "var_n = 0\n",
    "for i in range(len(s)):\n",
    "    var_n = var_n + (s[i])**2\n",
    "    if var_n >= var_all*0.95:\n",
    "        n_95 = i+1 # If variance exeeds 95%, we set n_95 to number of singular vectors required to capture it.\n",
    "        break"
   ]
  },
  {
   "cell_type": "code",
   "execution_count": 14,
   "metadata": {},
   "outputs": [],
   "source": [
    "singular_values = [n_50,n_75,n_95]\n",
    "percentage_captured = [0.5,0.75,0.95]"
   ]
  },
  {
   "cell_type": "code",
   "execution_count": 15,
   "metadata": {},
   "outputs": [
    {
     "data": {
      "image/png": "[encoded data removed]",
      "text/plain": [
       "<Figure size 576x576 with 1 Axes>"
      ]
     },
     "metadata": {
      "needs_background": "light"
     },
     "output_type": "display_data"
    }
   ],
   "source": [
    "# Plotting the variance captured vs the number of singular vectors required to capture the variance\n",
    "plt.figure(figsize=[8,8])\n",
    "plt.scatter(percentage_captured, singular_values)\n",
    "plt.plot(percentage_captured, singular_values)\n",
    "plt.xlabel('Percentage Frobenius Norm covered')\n",
    "plt.ylabel('Number of singular values required')\n",
    "plt.show()"
   ]
  },
  {
   "cell_type": "markdown",
   "metadata": {},
   "source": [
    "#### Observations"
   ]
  },
  {
   "cell_type": "markdown",
   "metadata": {},
   "source": [
    "We can see that since the columns are highly correlated a single singular value is able to capture upto 95% variance, whereas we will see later on that when the features are uncorrelated, we require upto 40 singular values to capture 95% variance"
   ]
  },
  {
   "cell_type": "markdown",
   "metadata": {},
   "source": [
    "## Case 2: Uncorrelated Matrix"
   ]
  },
  {
   "cell_type": "markdown",
   "metadata": {},
   "source": [
    "#### Creation of Matrix "
   ]
  },
  {
   "cell_type": "code",
   "execution_count": 16,
   "metadata": {},
   "outputs": [],
   "source": [
    "# Creating a 100x100 matrix with numbers between 0 and 1\n",
    "np.random.seed(10)\n",
    "A = np.matrix(np.random.random_sample([100,100]))"
   ]
  },
  {
   "cell_type": "markdown",
   "metadata": {},
   "source": [
    "#### Singular Value Decompostion"
   ]
  },
  {
   "cell_type": "code",
   "execution_count": 17,
   "metadata": {},
   "outputs": [],
   "source": [
    "U,s,V = SVD(A) # Performing SVD using the above defined function"
   ]
  },
  {
   "cell_type": "code",
   "execution_count": 18,
   "metadata": {},
   "outputs": [
    {
     "name": "stdout",
     "output_type": "stream",
     "text": [
      "We can see that the columns of A are not statistically correlated\n"
     ]
    }
   ],
   "source": [
    "np.corrcoef(A)\n",
    "print('We can see that the columns of A are not statistically correlated')"
   ]
  },
  {
   "cell_type": "code",
   "execution_count": 19,
   "metadata": {},
   "outputs": [
    {
     "data": {
      "text/plain": [
       "matrix([[0.77132064, 0.02075195, 0.63364823, ..., 0.44077382, 0.31827281,\n",
       "         0.51979699],\n",
       "        [0.57813643, 0.85393375, 0.06809727, ..., 0.80356835, 0.3512135 ,\n",
       "         0.09344038],\n",
       "        [0.81331608, 0.78486672, 0.39341911, ..., 0.64522775, 0.0566282 ,\n",
       "         0.2974841 ],\n",
       "        ...,\n",
       "        [0.84309087, 0.90138884, 0.71636679, ..., 0.48460966, 0.47101209,\n",
       "         0.88271114],\n",
       "        [0.31639481, 0.88949712, 0.28821348, ..., 0.29401386, 0.16887179,\n",
       "         0.49584786],\n",
       "        [0.5710414 , 0.60181792, 0.56677567, ..., 0.0050953 , 0.3826363 ,\n",
       "         0.89368739]])"
      ]
     },
     "execution_count": 19,
     "metadata": {},
     "output_type": "execute_result"
    }
   ],
   "source": [
    "A"
   ]
  },
  {
   "cell_type": "code",
   "execution_count": 20,
   "metadata": {},
   "outputs": [
    {
     "data": {
      "text/plain": [
       "matrix([[0.77132064, 0.02075195, 0.63364823, ..., 0.44077382, 0.31827281,\n",
       "         0.51979699],\n",
       "        [0.57813643, 0.85393375, 0.06809727, ..., 0.80356835, 0.3512135 ,\n",
       "         0.09344038],\n",
       "        [0.81331608, 0.78486672, 0.39341911, ..., 0.64522775, 0.0566282 ,\n",
       "         0.2974841 ],\n",
       "        ...,\n",
       "        [0.84309087, 0.90138884, 0.71636679, ..., 0.48460966, 0.47101209,\n",
       "         0.88271114],\n",
       "        [0.31639481, 0.88949712, 0.28821348, ..., 0.29401386, 0.16887179,\n",
       "         0.49584786],\n",
       "        [0.5710414 , 0.60181792, 0.56677567, ..., 0.0050953 , 0.3826363 ,\n",
       "         0.89368739]])"
      ]
     },
     "execution_count": 20,
     "metadata": {},
     "output_type": "execute_result"
    }
   ],
   "source": [
    "U*np.diag(s)*V.T"
   ]
  },
  {
   "cell_type": "markdown",
   "metadata": {},
   "source": [
    "We see that using SVD, we are able to successfully decompose the matrix A"
   ]
  },
  {
   "cell_type": "markdown",
   "metadata": {},
   "source": [
    "#### Compute Frobenius norm of matrix A"
   ]
  },
  {
   "cell_type": "markdown",
   "metadata": {},
   "source": [
    "Frobenius norm = Sum of squares of elements of matrix = Sum of squares of singular values = Sum of eigenvalues"
   ]
  },
  {
   "cell_type": "code",
   "execution_count": 21,
   "metadata": {},
   "outputs": [],
   "source": [
    "frobenius_A = 0\n",
    "for i in range(100):\n",
    "    for j in range(100):\n",
    "        frobenius_A = frobenius_A + (A[i,j])**2 # Summing squares of all elements of the matrix"
   ]
  },
  {
   "cell_type": "code",
   "execution_count": 22,
   "metadata": {},
   "outputs": [
    {
     "name": "stdout",
     "output_type": "stream",
     "text": [
      "The frobenius norm of A is 3258.759353368367\n"
     ]
    }
   ],
   "source": [
    "print('The frobenius norm of A is {}'.format(frobenius_A))"
   ]
  },
  {
   "cell_type": "code",
   "execution_count": 23,
   "metadata": {},
   "outputs": [
    {
     "name": "stdout",
     "output_type": "stream",
     "text": [
      "The frobenius norm of A is 3258.7593533683666\n",
      "We can see that Frobenius norm captured in the same as sum of eigenvalues/ sum of squares of singular values\n"
     ]
    }
   ],
   "source": [
    "print('The frobenius norm of A is {}'.format(sum(s**2))) # Summing all the squares of singular values of the matrix\n",
    "print('We can see that Frobenius norm captured in the same as sum of eigenvalues/ sum of squares of singular values')"
   ]
  },
  {
   "cell_type": "markdown",
   "metadata": {},
   "source": [
    "#### What fraction of the Frobenius norm of A is captured by the top 10 singular vectors?"
   ]
  },
  {
   "cell_type": "code",
   "execution_count": 24,
   "metadata": {},
   "outputs": [
    {
     "name": "stdout",
     "output_type": "stream",
     "text": [
      "Fraction captured by top ten singular vectors = 0.8198568859837808\n"
     ]
    }
   ],
   "source": [
    "var_10  = 0 # Variance captured by top ten singular vectors \n",
    "var_all = 0 # Variance captured by all the singular vectors\n",
    "\n",
    "for i in s[:10]:\n",
    "    var_10 = var_10 + i**2 # Summing the squares of top ten singular values\n",
    "for i in s:\n",
    "    var_all = var_all + i**2 # Summing the squares of all singular values\n",
    "    \n",
    "print('Fraction captured by top ten singular vectors = {}'.format(var_10/var_all))"
   ]
  },
  {
   "cell_type": "markdown",
   "metadata": {},
   "source": [
    "#### What fraction of the Frobenius norm of A is captured by the random 10 singular vectors?"
   ]
  },
  {
   "cell_type": "code",
   "execution_count": 25,
   "metadata": {},
   "outputs": [
    {
     "name": "stdout",
     "output_type": "stream",
     "text": [
      "Fraction captured by random ten singular vectors = 0.03079346410359493\n"
     ]
    }
   ],
   "source": [
    "np.random.seed(10)\n",
    "s1 = s.copy()\n",
    "np.random.shuffle(s1)\n",
    "\n",
    "var_10  = 0 # Variance captured by random ten singular vectors \n",
    "var_all = 0 # Variance captured by all the singular vectors\n",
    "\n",
    "for i in s1[:10]:\n",
    "    var_10 = var_10 + i**2 # Summing the squares of random ten singular values\n",
    "for i in s1:\n",
    "    var_all = var_all + i**2 # Summing the squares of all singular values\n",
    "    \n",
    "print('Fraction captured by random ten singular vectors = {}'.format(var_10/var_all))"
   ]
  },
  {
   "cell_type": "markdown",
   "metadata": {},
   "source": [
    "#### Plot a graph showing the number of singular vectors required to capture 50%, 75% & 95% of the data respectively? (Using the Frobenius norm)"
   ]
  },
  {
   "cell_type": "code",
   "execution_count": 26,
   "metadata": {},
   "outputs": [],
   "source": [
    "var_n   = 0 # Variance captured till n% variance is reached\n",
    "var_all = 0 # Variance captured by all singular vectors\n",
    "\n",
    "n_50 = 0 # Number of singular vectors required to capture 50% variance\n",
    "n_75 = 0 # Number of singular vectors required to capture 75% variance\n",
    "n_95 = 0 # Number of singular vectors required to capture 95% variance\n",
    "\n",
    "for i in s:\n",
    "    var_all = var_all + i**2\n",
    "    \n",
    "for i in range(len(s)):\n",
    "    var_n = var_n + (s[i])**2\n",
    "    if var_n >= var_all*0.5:\n",
    "        n_50 = i+1 # If variance exeeds 50%, we set n_50 to number of singular vectors required to capture it.\n",
    "        break\n",
    "\n",
    "\n",
    "var_n = 0\n",
    "for i in range(len(s)):\n",
    "    var_n = var_n + (s[i])**2\n",
    "    if var_n >= var_all*0.75:\n",
    "        n_75 = i+1 # If variance exeeds 75%, we set n_75 to number of singular vectors required to capture it.\n",
    "        break\n",
    "    \n",
    "var_n = 0\n",
    "for i in range(len(s)):\n",
    "    var_n = var_n + (s[i])**2\n",
    "    if var_n >= var_all*0.95:\n",
    "        n_95 = i+1 # If variance exeeds 95%, we set n_95 to number of singular vectors required to capture it.\n",
    "        break\n",
    "        \n"
   ]
  },
  {
   "cell_type": "code",
   "execution_count": 27,
   "metadata": {},
   "outputs": [
    {
     "name": "stdout",
     "output_type": "stream",
     "text": [
      "[1, 2, 40]\n"
     ]
    }
   ],
   "source": [
    "singular_values = [n_50,n_75,n_95]\n",
    "percentage_captured = [0.5,0.75,0.95]\n",
    "print(singular_values)"
   ]
  },
  {
   "cell_type": "code",
   "execution_count": 28,
   "metadata": {},
   "outputs": [
    {
     "data": {
      "image/png": "[encoded data removed]",
      "text/plain": [
       "<Figure size 576x576 with 1 Axes>"
      ]
     },
     "metadata": {
      "needs_background": "light"
     },
     "output_type": "display_data"
    }
   ],
   "source": [
    "# Plotting variance captured vs Number of singular values required to capture the required variance\n",
    "plt.figure(figsize=[8,8])\n",
    "plt.scatter(percentage_captured, singular_values)\n",
    "plt.plot(percentage_captured, singular_values)\n",
    "plt.xlabel('Percentage Frobenius Norm covered')\n",
    "plt.ylabel('Number of singular values required')\n",
    "plt.show()"
   ]
  },
  {
   "cell_type": "markdown",
   "metadata": {},
   "source": [
    "#### Observations:\n",
    "We see that very few singular values are required to capture most part of the variance. But as we saturate to capturing more than around 90% of the variance, we require large amount of singular values, unlike in the case of highly correlated data where a single singular vector can capture upto 95% variance"
   ]
  }
 ],
 "metadata": {
  "kernelspec": {
   "display_name": "Python 3",
   "language": "python",
   "name": "python3"
  },
  "language_info": {
   "codemirror_mode": {
    "name": "ipython",
    "version": 3
   },
   "file_extension": ".py",
   "mimetype": "text/x-python",
   "name": "python",
   "nbconvert_exporter": "python",
   "pygments_lexer": "ipython3",
   "version": "3.7.4"
  }
 },
 "nbformat": 4,
 "nbformat_minor": 2
}
